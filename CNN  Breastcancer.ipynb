{
 "cells": [
  {
   "cell_type": "code",
   "execution_count": 1,
   "metadata": {},
   "outputs": [],
   "source": [
    "from tensorflow.keras.models import Sequential\n",
    "from tensorflow.keras.layers import Dense\n",
    "from tensorflow.keras.layers import Convolution2D\n",
    "from tensorflow.keras.layers import MaxPooling2D\n",
    "from tensorflow.keras.layers import Flatten"
   ]
  },
  {
   "cell_type": "code",
   "execution_count": 2,
   "metadata": {},
   "outputs": [
    {
     "name": "stderr",
     "output_type": "stream",
     "text": [
      "Using TensorFlow backend.\n"
     ]
    }
   ],
   "source": [
    "from keras.preprocessing.image import ImageDataGenerator\n",
    "train_datagen =  ImageDataGenerator(rescale = 1./255,shear_range = 0.2,zoom_range = 0.2,horizontal_flip = True)\n",
    "test_datagen =  ImageDataGenerator(rescale = 1./255)"
   ]
  },
  {
   "cell_type": "code",
   "execution_count": 3,
   "metadata": {},
   "outputs": [
    {
     "name": "stdout",
     "output_type": "stream",
     "text": [
      "Found 160 images belonging to 2 classes.\n",
      "Found 40 images belonging to 2 classes.\n"
     ]
    }
   ],
   "source": [
    "x_train = train_datagen.flow_from_directory(r\"C:\\Users\\Lucky\\Downloads\\Breast Cancer\\train\",target_size = (128,128),batch_size = 32, class_mode =\"binary\")\n",
    "x_test = test_datagen.flow_from_directory(r\"C:\\Users\\Lucky\\Downloads\\Breast Cancer\\test\",target_size = (128,128),batch_size = 32, class_mode =\"binary\")\n"
   ]
  },
  {
   "cell_type": "code",
   "execution_count": 4,
   "metadata": {},
   "outputs": [
    {
     "data": {
      "text/plain": [
       "{'benign': 0, 'malignant': 1}"
      ]
     },
     "execution_count": 4,
     "metadata": {},
     "output_type": "execute_result"
    }
   ],
   "source": [
    "x_train.class_indices"
   ]
  },
  {
   "cell_type": "code",
   "execution_count": 5,
   "metadata": {},
   "outputs": [],
   "source": [
    "model = Sequential()"
   ]
  },
  {
   "cell_type": "code",
   "execution_count": 6,
   "metadata": {},
   "outputs": [],
   "source": [
    "model.add(Convolution2D(32,(3,3) ,input_shape = (128,128,3),activation = \"relu\"))"
   ]
  },
  {
   "cell_type": "code",
   "execution_count": 7,
   "metadata": {},
   "outputs": [],
   "source": [
    "model.add(MaxPooling2D(2,2))"
   ]
  },
  {
   "cell_type": "code",
   "execution_count": 8,
   "metadata": {},
   "outputs": [],
   "source": [
    "model.add(Flatten())"
   ]
  },
  {
   "cell_type": "code",
   "execution_count": 9,
   "metadata": {},
   "outputs": [],
   "source": [
    "model.add(Dense(units = 512,activation = \"relu\",kernel_initializer = \"random_uniform\"))"
   ]
  },
  {
   "cell_type": "code",
   "execution_count": 10,
   "metadata": {},
   "outputs": [],
   "source": [
    "model.add(Dense(units = 1,activation = \"sigmoid\",kernel_initializer = \"random_uniform\"))"
   ]
  },
  {
   "cell_type": "code",
   "execution_count": 11,
   "metadata": {},
   "outputs": [],
   "source": [
    "model.compile(loss = \"binary_crossentropy\",optimizer = \"adam\" ,metrics = [\"accuracy\"])"
   ]
  },
  {
   "cell_type": "code",
   "execution_count": 12,
   "metadata": {},
   "outputs": [
    {
     "name": "stderr",
     "output_type": "stream",
     "text": [
      "C:\\Users\\Lucky\\Anaconda3\\lib\\site-packages\\tensorflow\\python\\keras\\engine\\training.py:1844: UserWarning: `Model.fit_generator` is deprecated and will be removed in a future version. Please use `Model.fit`, which supports generators.\n",
      "  warnings.warn('`Model.fit_generator` is deprecated and '\n"
     ]
    },
    {
     "name": "stdout",
     "output_type": "stream",
     "text": [
      "Epoch 1/25\n",
      "5/5 [==============================] - 112s 22s/step - loss: 9.7351 - accuracy: 0.5008 - val_loss: 0.1930 - val_accuracy: 0.9062\n",
      "Epoch 2/25\n",
      "5/5 [==============================] - 75s 11s/step - loss: 0.6198 - accuracy: 0.8015 - val_loss: 0.2586 - val_accuracy: 0.8750\n",
      "Epoch 3/25\n",
      "5/5 [==============================] - 20s 4s/step - loss: 0.3615 - accuracy: 0.8431 - val_loss: 0.0034 - val_accuracy: 1.0000\n",
      "Epoch 4/25\n",
      "5/5 [==============================] - 21s 4s/step - loss: 0.1963 - accuracy: 0.9703 - val_loss: 0.2893 - val_accuracy: 0.8750\n",
      "Epoch 5/25\n",
      "5/5 [==============================] - 16s 3s/step - loss: 0.3563 - accuracy: 0.8402 - val_loss: 0.0103 - val_accuracy: 1.0000\n",
      "Epoch 6/25\n",
      "5/5 [==============================] - 18s 3s/step - loss: 0.2250 - accuracy: 0.9617 - val_loss: 0.0820 - val_accuracy: 1.0000\n",
      "Epoch 7/25\n",
      "5/5 [==============================] - 18s 3s/step - loss: 0.2792 - accuracy: 0.8874 - val_loss: 0.0193 - val_accuracy: 1.0000\n",
      "Epoch 8/25\n",
      "5/5 [==============================] - 20s 4s/step - loss: 0.2256 - accuracy: 0.9336 - val_loss: 0.1242 - val_accuracy: 1.0000\n",
      "Epoch 9/25\n",
      "5/5 [==============================] - 49s 11s/step - loss: 0.2239 - accuracy: 0.9358 - val_loss: 0.0210 - val_accuracy: 1.0000\n",
      "Epoch 10/25\n",
      "5/5 [==============================] - 25s 5s/step - loss: 0.1752 - accuracy: 0.9599 - val_loss: 0.0559 - val_accuracy: 1.0000\n",
      "Epoch 11/25\n",
      "5/5 [==============================] - 18s 4s/step - loss: 0.2249 - accuracy: 0.9151 - val_loss: 0.0176 - val_accuracy: 1.0000\n",
      "Epoch 12/25\n",
      "5/5 [==============================] - 25s 5s/step - loss: 0.2286 - accuracy: 0.9418 - val_loss: 0.0584 - val_accuracy: 1.0000\n",
      "Epoch 13/25\n",
      "5/5 [==============================] - 18s 3s/step - loss: 0.1678 - accuracy: 0.9504 - val_loss: 0.0319 - val_accuracy: 1.0000\n",
      "Epoch 14/25\n",
      "5/5 [==============================] - 16s 3s/step - loss: 0.1913 - accuracy: 0.9586 - val_loss: 0.0531 - val_accuracy: 1.0000\n",
      "Epoch 15/25\n",
      "5/5 [==============================] - 19s 4s/step - loss: 0.1475 - accuracy: 0.9642 - val_loss: 0.0578 - val_accuracy: 1.0000\n",
      "Epoch 16/25\n",
      "5/5 [==============================] - 15s 3s/step - loss: 0.1853 - accuracy: 0.9360 - val_loss: 0.0330 - val_accuracy: 1.0000\n",
      "Epoch 17/25\n",
      "5/5 [==============================] - 14s 3s/step - loss: 0.1606 - accuracy: 0.9595 - val_loss: 0.0216 - val_accuracy: 1.0000\n",
      "Epoch 18/25\n",
      "5/5 [==============================] - 15s 3s/step - loss: 0.1551 - accuracy: 0.9615 - val_loss: 0.0667 - val_accuracy: 1.0000\n",
      "Epoch 19/25\n",
      "5/5 [==============================] - 18s 4s/step - loss: 0.1700 - accuracy: 0.9421 - val_loss: 0.0175 - val_accuracy: 1.0000\n",
      "Epoch 20/25\n",
      "5/5 [==============================] - 20s 3s/step - loss: 0.1565 - accuracy: 0.9551 - val_loss: 0.1139 - val_accuracy: 1.0000\n",
      "Epoch 21/25\n",
      "5/5 [==============================] - 15s 3s/step - loss: 0.1634 - accuracy: 0.9677 - val_loss: 0.0232 - val_accuracy: 1.0000\n",
      "Epoch 22/25\n",
      "5/5 [==============================] - 15s 3s/step - loss: 0.1281 - accuracy: 0.9569 - val_loss: 0.1047 - val_accuracy: 1.0000\n",
      "Epoch 23/25\n",
      "5/5 [==============================] - 14s 3s/step - loss: 0.1594 - accuracy: 0.9525 - val_loss: 0.0373 - val_accuracy: 1.0000\n",
      "Epoch 24/25\n",
      "5/5 [==============================] - 14s 3s/step - loss: 0.1499 - accuracy: 0.9451 - val_loss: 0.0105 - val_accuracy: 1.0000\n",
      "Epoch 25/25\n",
      "5/5 [==============================] - 17s 3s/step - loss: 0.1933 - accuracy: 0.9442 - val_loss: 0.0299 - val_accuracy: 1.0000\n"
     ]
    },
    {
     "data": {
      "text/plain": [
       "<tensorflow.python.keras.callbacks.History at 0x1f315851c18>"
      ]
     },
     "execution_count": 12,
     "metadata": {},
     "output_type": "execute_result"
    }
   ],
   "source": [
    "model.fit_generator(x_train ,steps_per_epoch = 5 ,epochs = 25,validation_data= x_test , validation_steps =1 )"
   ]
  },
  {
   "cell_type": "code",
   "execution_count": 13,
   "metadata": {},
   "outputs": [],
   "source": [
    "model.save(\"BreastCancer.h5\")"
   ]
  },
  {
   "cell_type": "code",
   "execution_count": null,
   "metadata": {},
   "outputs": [],
   "source": []
  }
 ],
 "metadata": {
  "kernelspec": {
   "display_name": "Python 3",
   "language": "python",
   "name": "python3"
  },
  "language_info": {
   "codemirror_mode": {
    "name": "ipython",
    "version": 3
   },
   "file_extension": ".py",
   "mimetype": "text/x-python",
   "name": "python",
   "nbconvert_exporter": "python",
   "pygments_lexer": "ipython3",
   "version": "3.7.3"
  }
 },
 "nbformat": 4,
 "nbformat_minor": 2
}
